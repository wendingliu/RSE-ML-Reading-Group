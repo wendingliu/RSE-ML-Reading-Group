{
 "cells": [
  {
   "cell_type": "markdown",
   "metadata": {},
   "source": [
    "# Building a Neural Network from Scratch\n",
    "\n",
    "ANU ML Reading Group, 04/12/2023 \n",
    "\n",
    "Reference: \n",
    "\n",
    "- Deep Learning from Scratch by Saitoh Koki (O'Reilly Japan, 2016)\n",
    "\n",
    "- Deep Learning with Python by Francois Chollet (Manning, 2021)"
   ]
  },
  {
   "cell_type": "markdown",
   "metadata": {},
   "source": [
    "- deep learning $\\approx$ layered representation learning\n",
    "\n",
    "- learning $\\approx$ finding a set of values for the weights of all layers in a network"
   ]
  },
  {
   "cell_type": "code",
   "execution_count": 1,
   "metadata": {},
   "outputs": [],
   "source": [
    "import jax.numpy as jnp\n",
    "import jax\n",
    "jax.config.update(\"jax_enable_x64\", True)\n",
    "\n",
    "import matplotlib.pyplot as plt"
   ]
  },
  {
   "cell_type": "markdown",
   "metadata": {},
   "source": [
    "# Perceptron\n",
    "\n",
    "<div>\n",
    "<img src=\"images/perceptron1950.jpg\" width=\"500\"/>\n",
    "<img src=\"images/simple_perceptron.png\" width=\"300\"/>\n",
    "</div>\n",
    "\n",
    "$$\n",
    "y= \\begin{cases}0 & \\left(w_1 x_1+w_2 x_2 \\leqslant \\theta\\right) \\\\ 1 & \\left(w_1 x_1+w_2 x_2>\\theta\\right)\\end{cases}\n",
    "$$"
   ]
  },
  {
   "cell_type": "code",
   "execution_count": 2,
   "metadata": {},
   "outputs": [],
   "source": [
    "def perceptron(x, w, θ):\n",
    "    return int(jnp.dot(x, w) >= θ)"
   ]
  },
  {
   "cell_type": "markdown",
   "metadata": {},
   "source": [
    "## Building Logic Gates with Perceptron"
   ]
  },
  {
   "cell_type": "markdown",
   "metadata": {},
   "source": [
    "### AND gate\n",
    "\n",
    "<div>\n",
    "<img src=\"images/ANDGate.png\" width=\"500\"/>\n",
    "</div>"
   ]
  },
  {
   "cell_type": "code",
   "execution_count": 3,
   "metadata": {},
   "outputs": [],
   "source": [
    "# w1 = 0.5, w2 = 0.5, θ = 0.6\n",
    "andGate = lambda x1, x2: perceptron(jnp.array([x1, x2]), jnp.array([0.5, 0.5]), 0.6)"
   ]
  },
  {
   "cell_type": "code",
   "execution_count": 4,
   "metadata": {},
   "outputs": [
    {
     "data": {
      "text/plain": [
       "(0, 0, 0, 1)"
      ]
     },
     "execution_count": 4,
     "metadata": {},
     "output_type": "execute_result"
    }
   ],
   "source": [
    "andGate(0, 0), andGate(0, 1), andGate(1, 0), andGate(1, 1)"
   ]
  },
  {
   "cell_type": "markdown",
   "metadata": {},
   "source": [
    "### OR gate\n",
    "\n",
    "<div>\n",
    "<img src=\"images/orGate.png\" width=\"500\"/>\n",
    "</div>"
   ]
  },
  {
   "cell_type": "code",
   "execution_count": 5,
   "metadata": {},
   "outputs": [],
   "source": [
    "# w1 = 0.5, w2 = 0.5, θ = 0.1\n",
    "orGate = lambda x1, x2: perceptron(jnp.array([x1, x2]), jnp.array([0.5, 0.5]), 0.1)"
   ]
  },
  {
   "cell_type": "code",
   "execution_count": 6,
   "metadata": {},
   "outputs": [
    {
     "data": {
      "text/plain": [
       "(0, 1, 1, 1)"
      ]
     },
     "execution_count": 6,
     "metadata": {},
     "output_type": "execute_result"
    }
   ],
   "source": [
    "orGate(0, 0), orGate(0, 1), orGate(1, 0), orGate(1, 1)"
   ]
  },
  {
   "cell_type": "markdown",
   "metadata": {},
   "source": [
    "### Not AND Gate\n",
    "\n",
    "<div>\n",
    "<img src=\"images/NAND.png\" width=\"500\"/>\n",
    "</div>"
   ]
  },
  {
   "cell_type": "code",
   "execution_count": 7,
   "metadata": {},
   "outputs": [],
   "source": [
    "# w1 = -0.5, w2 = -0.5, θ = -0.6\n",
    "nandGate = lambda x1, x2: perceptron(jnp.array([x1, x2]), jnp.array([-0.5, -0.5]), -0.6)"
   ]
  },
  {
   "cell_type": "code",
   "execution_count": 8,
   "metadata": {},
   "outputs": [
    {
     "data": {
      "text/plain": [
       "(1, 1, 1, 0)"
      ]
     },
     "execution_count": 8,
     "metadata": {},
     "output_type": "execute_result"
    }
   ],
   "source": [
    "nandGate(0, 0), nandGate(0, 1), nandGate(1, 0), nandGate(1, 1)"
   ]
  },
  {
   "cell_type": "markdown",
   "metadata": {},
   "source": [
    "## Limitation of Perceptron \n",
    "\n",
    "### XOR Gate\n",
    "<div>\n",
    "<img src=\"images/xorGate.png\" width=\"300\"/>\n",
    "<img src=\"images/xor2d.png\" width=\"300\"/>\n",
    "<img src=\"images/xor2.png\" width=\"500\"/>\n",
    "</div>\n",
    "\n",
    "- We cannot build XOR gate with a single perceptron.\n",
    "- But we can build XOR gate with two layers of perceptrons."
   ]
  },
  {
   "cell_type": "code",
   "execution_count": 9,
   "metadata": {},
   "outputs": [],
   "source": [
    "xorGate = lambda x1, x2: andGate(orGate(x1, x2), nandGate(x1, x2))"
   ]
  },
  {
   "cell_type": "code",
   "execution_count": 10,
   "metadata": {},
   "outputs": [
    {
     "data": {
      "text/plain": [
       "(0, 1, 1, 0)"
      ]
     },
     "execution_count": 10,
     "metadata": {},
     "output_type": "execute_result"
    }
   ],
   "source": [
    "xorGate(0, 0), xorGate(0, 1), xorGate(1, 0), xorGate(1, 1)"
   ]
  },
  {
   "cell_type": "markdown",
   "metadata": {},
   "source": [
    "- We can build a computer only using two layers of perceptrons!\n",
    "- Two layers of perceptrons (with sigmoid activation functions) can approximate any function."
   ]
  },
  {
   "cell_type": "markdown",
   "metadata": {},
   "source": [
    "# Neural Network\n",
    "\n",
    "<div>\n",
    "<img src=\"images/digital_class.png\" width=\"500\"/>\n",
    "<img src=\"images/feed_back_loop.png\" width=\"500\"/>\n",
    "<img src=\"images/three_layers.png\" width=\"500\"/>\n",
    "</div>\n"
   ]
  },
  {
   "cell_type": "markdown",
   "metadata": {},
   "source": [
    "## Activation Function\n",
    "<div>\n",
    "<img src=\"images/activation_function.png\" width=\"500\"/>\n",
    "</div>\n"
   ]
  },
  {
   "cell_type": "markdown",
   "metadata": {},
   "source": [
    "### sigmoid function\n",
    "\n",
    "$$h(x)=\\frac{1}{1+\\exp (-x)}$$"
   ]
  },
  {
   "cell_type": "code",
   "execution_count": 11,
   "metadata": {},
   "outputs": [],
   "source": [
    "sigmoid = lambda x: 1 / (1 + jnp.exp(-x))"
   ]
  },
  {
   "cell_type": "markdown",
   "metadata": {},
   "source": [
    "### ReLU function\n",
    "(rectified linear unit function)\n",
    "$$\n",
    "h(x)= \\begin{cases}x & (x>0) \\\\ 0 & (x \\leqslant 0)\\end{cases}\n",
    "$$"
   ]
  },
  {
   "cell_type": "markdown",
   "metadata": {},
   "source": [
    "## Building a three-layer neural network"
   ]
  },
  {
   "cell_type": "markdown",
   "metadata": {},
   "source": [
    "### input layer $→$  first layer\n",
    "\n",
    "<div>\n",
    "<img src=\"images/0to1.png\" width=\"500\"/>\n",
    "</div>\n",
    "\n",
    "$a_1^{(1)}=w_{11}^{(1)} x_1+w_{12}^{(1)} x_2+b_1^{(1)}$\n",
    "\n",
    "$$\n",
    "\\boldsymbol{A}^{(1)}=\\boldsymbol{X} \\boldsymbol{W}^{(1)}+\\boldsymbol{B}^{(1)}\n",
    "$$\n",
    "\n",
    "$$\n",
    "\\begin{aligned}\n",
    "\\boldsymbol{A}^{(1)} & =\\left(\\begin{array}{lll}\n",
    "a_1^{(1)} & a_2^{(1)} & a_3^{(1)}\n",
    "\\end{array}\\right), \\boldsymbol{X}=\\left(\\begin{array}{ll}\n",
    "x_1 & x_2\n",
    "\\end{array}\\right), \\boldsymbol{B}^{(1)}=\\left(\\begin{array}{lll}\n",
    "b_1^{(1)} & b_2^{(1)} & b_3^{(1)}\n",
    "\\end{array}\\right) \\\\\n",
    "\\boldsymbol{W}^{(1)} & =\\left(\\begin{array}{lll}\n",
    "w_{11}^{(1)} & w_{21}^{(1)} & w_{31}^{(1)} \\\\\n",
    "w_{12}^{(1)} & w_{22}^{(1)} & w_{32}^{(1)}\n",
    "\\end{array}\\right)\n",
    "\\end{aligned}\n",
    "$$"
   ]
  },
  {
   "cell_type": "code",
   "execution_count": 12,
   "metadata": {},
   "outputs": [
    {
     "name": "stdout",
     "output_type": "stream",
     "text": [
      "[0.3 0.7 1.1]\n"
     ]
    }
   ],
   "source": [
    "# example\n",
    "X = jnp.array([1.0, 0.5])\n",
    "W1 = jnp.array([[0.1, 0.3, 0.5], [0.2, 0.4, 0.6]])\n",
    "B1 = jnp.array([0.1, 0.2, 0.3])\n",
    "\n",
    "A1 = jnp.dot(X, W1) + B1\n",
    "print(A1)"
   ]
  },
  {
   "cell_type": "markdown",
   "metadata": {},
   "source": [
    "### first layer $→$ second layer\n",
    "\n",
    "<div>\n",
    "<img src=\"images/1to2.png\" width=\"500\"/>\n",
    "</div>"
   ]
  },
  {
   "cell_type": "code",
   "execution_count": 13,
   "metadata": {},
   "outputs": [
    {
     "name": "stdout",
     "output_type": "stream",
     "text": [
      "A1:  [0.3 0.7 1.1]\n",
      "Z1:  [0.57444252 0.66818777 0.75026011]\n"
     ]
    }
   ],
   "source": [
    "Z1 = sigmoid(A1) # activation function\n",
    "\n",
    "print(\"A1: \", A1)\n",
    "print(\"Z1: \", Z1)"
   ]
  },
  {
   "cell_type": "code",
   "execution_count": 14,
   "metadata": {},
   "outputs": [
    {
     "name": "stdout",
     "output_type": "stream",
     "text": [
      "[0.62624937 0.7710107 ]\n"
     ]
    }
   ],
   "source": [
    "W2 = jnp.array([[0.1, 0.4], [0.2, 0.5], [0.3, 0.6]])\n",
    "B2 = jnp.array([0.1, 0.2])\n",
    "\n",
    "A2 = jnp.dot(Z1, W2) + B2\n",
    "Z2 = sigmoid(A2)\n",
    "\n",
    "print(Z2)"
   ]
  },
  {
   "cell_type": "markdown",
   "metadata": {},
   "source": [
    "### second layer $→$ output layer\n",
    "\n",
    "softmax function\n",
    "$$\n",
    "\\begin{aligned}\n",
    "y_k=\\frac{\\exp \\left(a_k\\right)}{\\sum_{i=1}^n \\exp \\left(a_i\\right)} & =\\frac{\\mathrm{C} \\exp \\left(a_k\\right)}{\\mathrm{C} \\sum_{i=1}^n \\exp \\left(a_i\\right)} \\\\\n",
    "& =\\frac{\\exp \\left(a_k+\\log \\mathrm{C}\\right)}{\\sum_{i=1}^n \\exp \\left(a_i+\\log \\mathrm{C}\\right)} \\\\\n",
    "& =\\frac{\\exp \\left(a_k+\\mathrm{C}^{\\prime}\\right)}{\\sum_{i=1}^n \\exp \\left(a_i+\\mathrm{C}^{\\prime}\\right)}\n",
    "\\end{aligned}\n",
    "$$"
   ]
  },
  {
   "cell_type": "code",
   "execution_count": 15,
   "metadata": {},
   "outputs": [],
   "source": [
    "def softmax(a):\n",
    "    c = jnp.max(a)\n",
    "    exp_a = jnp.exp(a - c) # prevent overflow\n",
    "    sum_exp_a = jnp.sum(exp_a)\n",
    "    y = exp_a / sum_exp_a\n",
    "    return y"
   ]
  },
  {
   "cell_type": "code",
   "execution_count": 16,
   "metadata": {},
   "outputs": [
    {
     "name": "stdout",
     "output_type": "stream",
     "text": [
      "[0.40625907 0.59374093]\n"
     ]
    }
   ],
   "source": [
    "W3 = jnp.array([[0.1, 0.3], [0.2, 0.4]])\n",
    "B3 = jnp.array([0.1, 0.2])\n",
    "\n",
    "A3 = jnp.dot(Z2, W3) + B3\n",
    "Y = softmax(A3)\n",
    "print(Y)"
   ]
  },
  {
   "cell_type": "markdown",
   "metadata": {},
   "source": [
    "## Handwriting recognition and Forward Propagation\n",
    "\n",
    "- MNIST dataset\n",
    "- N = 60,000 training images\n",
    "- N = 10,000 test images\n",
    "- 0-9 digits (10 classes)\n",
    "- 28x28 pixel images\n",
    "- each pixel is a value between 0 and 255"
   ]
  },
  {
   "cell_type": "code",
   "execution_count": 17,
   "metadata": {},
   "outputs": [],
   "source": [
    "from dataset.mnist import load_mnist\n",
    "\n",
    "(x_train, t_train), (x_test, t_test) = load_mnist(flatten=True, normalize=False)\n",
    "\n",
    "x_train = jnp.array(x_train)\n",
    "t_train = jnp.array(t_train)\n",
    "x_test = jnp.array(x_test)\n",
    "t_test = jnp.array(t_test)"
   ]
  },
  {
   "cell_type": "markdown",
   "metadata": {},
   "source": [
    "Network shape\n",
    "\n",
    "<div>\n",
    "<img src=\"images/shape.png\" width=\"500\"/>\n",
    "</div>"
   ]
  },
  {
   "cell_type": "code",
   "execution_count": 18,
   "metadata": {},
   "outputs": [
    {
     "name": "stdout",
     "output_type": "stream",
     "text": [
      "60000\n",
      "10000\n",
      "3\n",
      "(784,)\n",
      "(28, 28)\n"
     ]
    }
   ],
   "source": [
    "from PIL import Image\n",
    "import numpy as np\n",
    "\n",
    "def img_show(img):\n",
    "    pil_img = Image.fromarray(np.uint8(img))\n",
    "    pil_img.show()\n",
    "\n",
    "\n",
    "img = x_train[10]\n",
    "label = t_train[10]\n",
    "\n",
    "print(len(x_train))\n",
    "print(len(x_test))\n",
    "\n",
    "print(label) \n",
    "print(img.shape) # (784,)\n",
    "\n",
    "img = img.reshape(28, 28)\n",
    "print(img.shape) # (28, 28)\n",
    "\n",
    "img_show(img) # show image"
   ]
  },
  {
   "cell_type": "markdown",
   "metadata": {},
   "source": [
    "Assume we have learned the weights, and we want to predict the digit in the test set."
   ]
  },
  {
   "cell_type": "code",
   "execution_count": 19,
   "metadata": {},
   "outputs": [],
   "source": [
    "import pickle\n",
    "\n",
    "with open(\"sample_weight.pkl\", 'rb') as f:\n",
    "    network = pickle.load(f) # load dictionary of weights"
   ]
  },
  {
   "cell_type": "code",
   "execution_count": 20,
   "metadata": {},
   "outputs": [
    {
     "name": "stdout",
     "output_type": "stream",
     "text": [
      "(784, 50)\n",
      "(50,)\n",
      "(50, 100)\n",
      "(100,)\n",
      "(100, 10)\n",
      "(10,)\n"
     ]
    }
   ],
   "source": [
    "print(network['W1'].shape) # (784, 50)\n",
    "print(network['b1'].shape) # (50,)\n",
    "print(network['W2'].shape) # (50, 100)\n",
    "print(network['b2'].shape) # (100,)\n",
    "print(network['W3'].shape) # (100, 10)\n",
    "print(network['b3'].shape) # (10,)"
   ]
  },
  {
   "cell_type": "code",
   "execution_count": 21,
   "metadata": {},
   "outputs": [],
   "source": [
    "@jax.jit\n",
    "def predict(network, x):\n",
    "    a1 = jnp.dot(x, network['W1']) + network['b1']\n",
    "    z1 = sigmoid(a1)\n",
    "    a2 = jnp.dot(z1, network['W2']) + network['b2']\n",
    "    z2 = sigmoid(a2)\n",
    "    a3 = jnp.dot(z2, network['W3']) + network['b3']\n",
    "    y = softmax(a3)\n",
    "    return y"
   ]
  },
  {
   "cell_type": "code",
   "execution_count": 22,
   "metadata": {},
   "outputs": [
    {
     "name": "stdout",
     "output_type": "stream",
     "text": [
      "Accuracy:0.9207\n"
     ]
    }
   ],
   "source": [
    "# check accuracy of prediction in test set\n",
    "\n",
    "accuracy_cnt = 0\n",
    "for i in range(len(x_test)):\n",
    "    y = predict(network, x_test[i])\n",
    "    p = jnp.argmax(y) # index of max value\n",
    "    if p == t_test[i]:\n",
    "        accuracy_cnt += 1\n",
    "\n",
    "print(\"Accuracy:\" + str(float(accuracy_cnt) / len(x_test)))"
   ]
  },
  {
   "cell_type": "markdown",
   "metadata": {},
   "source": [
    "### Batch Processing \n",
    "\n",
    "- The previous code is slow since we loop over 10,000 images one by one.\n",
    "- We can speed up the code by processing the images in batches.\n",
    "\n",
    "<div>\n",
    "<img src=\"images/batch_shape.png\" width=\"500\"/>\n",
    "</div>"
   ]
  },
  {
   "cell_type": "code",
   "execution_count": 23,
   "metadata": {},
   "outputs": [
    {
     "name": "stdout",
     "output_type": "stream",
     "text": [
      "Accuracy:0.9207\n"
     ]
    }
   ],
   "source": [
    "batch_size = 100\n",
    "accuracy_cnt = 0\n",
    "\n",
    "for i in range(0, len(x_test), batch_size):\n",
    "    x_batch = x_test[i:i+batch_size]\n",
    "    y_batch = predict(network, x_batch)\n",
    "    p = jnp.argmax(y_batch, axis=1)\n",
    "    accuracy_cnt += jnp.sum(p == t_test[i:i+batch_size])\n",
    "\n",
    "print(\"Accuracy:\" + str(float(accuracy_cnt) / len(x_test)))"
   ]
  },
  {
   "cell_type": "markdown",
   "metadata": {},
   "source": [
    "# Learning from Data"
   ]
  },
  {
   "cell_type": "markdown",
   "metadata": {},
   "source": [
    "## Cross Entropy Error\n",
    "\n",
    "$$\n",
    "E=-\\sum_k t_k \\log y_k\n",
    "$$\n",
    "\n",
    "- $t_k$ is 1 if the image is digit $k$, and 0 otherwise."
   ]
  },
  {
   "cell_type": "code",
   "execution_count": 24,
   "metadata": {},
   "outputs": [],
   "source": [
    "def cross_entropy_error(y, t, delta = 1e-7):\n",
    "    return -np.sum(t * np.log(y + delta))"
   ]
  },
  {
   "cell_type": "code",
   "execution_count": 25,
   "metadata": {},
   "outputs": [
    {
     "data": {
      "text/plain": [
       "Array(0.22314343, dtype=float64)"
      ]
     },
     "execution_count": 25,
     "metadata": {},
     "output_type": "execute_result"
    }
   ],
   "source": [
    "t = jnp.array([0, 1, 0])\n",
    "y = jnp.array([0.1, 0.8, 0.1])\n",
    "cross_entropy_error(y, t) # accurate prediction, low cross entropy error"
   ]
  },
  {
   "cell_type": "code",
   "execution_count": 26,
   "metadata": {},
   "outputs": [
    {
     "data": {
      "text/plain": [
       "Array(2.99573027, dtype=float64)"
      ]
     },
     "execution_count": 26,
     "metadata": {},
     "output_type": "execute_result"
    }
   ],
   "source": [
    "t = jnp.array([0, 1, 0])\n",
    "y = jnp.array([0.1, 0.05, 0.85])\n",
    "cross_entropy_error(y, t) # inaccurate prediction, high cross entropy error"
   ]
  },
  {
   "cell_type": "markdown",
   "metadata": {},
   "source": [
    "## Gradient Method\n",
    "\n",
    "$$\n",
    "\\begin{aligned}\n",
    "\\boldsymbol{W} & =\\left(\\begin{array}{ccc}\n",
    "w_{11} & w_{12} & w_{13} \\\\\n",
    "w_{21} & w_{22} & w_{23}\n",
    "\\end{array}\\right) \\\\\n",
    "\\frac{\\partial L}{\\partial \\boldsymbol{W}} & =\\left(\\begin{array}{ccc}\n",
    "\\frac{\\partial L}{\\partial w_{11}} & \\frac{\\partial L}{\\partial w_{12}} & \\frac{\\partial L}{\\partial w_{13}} \\\\\n",
    "\\frac{\\partial L}{\\partial w_{21}} & \\frac{\\partial L}{\\partial w_{22}} & \\frac{\\partial L}{\\partial w_{23}}\n",
    "\\end{array}\\right)\n",
    "\\end{aligned}\n",
    "$$"
   ]
  },
  {
   "cell_type": "code",
   "execution_count": 27,
   "metadata": {},
   "outputs": [],
   "source": [
    "def numerical_gradient(f, x):\n",
    "    h = 1e-4\n",
    "    grad = np.zeros_like(x)\n",
    "    \n",
    "    it = np.nditer(x, flags=['multi_index'], op_flags=['readwrite'])\n",
    "    while not it.finished:\n",
    "        idx = it.multi_index\n",
    "        tmp_val = x[idx]\n",
    "        x[idx] = float(tmp_val) + h\n",
    "        fxh1 = f(x) # f(x+h)\n",
    "        \n",
    "        x[idx] = tmp_val - h \n",
    "        fxh2 = f(x) # f(x-h)\n",
    "        grad[idx] = (fxh1 - fxh2) / (2*h)\n",
    "        \n",
    "        x[idx] = tmp_val \n",
    "        it.iternext()   \n",
    "        \n",
    "    return grad"
   ]
  },
  {
   "cell_type": "code",
   "execution_count": 28,
   "metadata": {},
   "outputs": [],
   "source": [
    "class simpleNet:\n",
    "    def __init__(self):\n",
    "        self.W = np.random.randn(2,3) # normal distribution\n",
    "\n",
    "    def predict(self, x):\n",
    "        return np.dot(x, self.W)\n",
    "    \n",
    "    def loss(self, x, t):\n",
    "        z = self.predict(x)\n",
    "        y = softmax(z)\n",
    "        loss = cross_entropy_error(y, t)\n",
    "        return loss"
   ]
  },
  {
   "cell_type": "code",
   "execution_count": 29,
   "metadata": {},
   "outputs": [
    {
     "name": "stdout",
     "output_type": "stream",
     "text": [
      "[[0.18758432 0.33019026 0.22054719]\n",
      " [1.45996212 0.96791294 0.99503241]]\n"
     ]
    }
   ],
   "source": [
    "net = simpleNet()\n",
    "print(net.W)"
   ]
  },
  {
   "cell_type": "code",
   "execution_count": 30,
   "metadata": {},
   "outputs": [
    {
     "data": {
      "text/plain": [
       "array([[ 0.2530795 ,  0.17704837, -0.43012788],\n",
       "       [ 0.37961926,  0.26557256, -0.64519182]])"
      ]
     },
     "execution_count": 30,
     "metadata": {},
     "output_type": "execute_result"
    }
   ],
   "source": [
    "x = jnp.array([0.6, 0.9])\n",
    "t = jnp.array([0, 0, 1])\n",
    "f = lambda w: net.loss(x, t)\n",
    "dW = numerical_gradient(f, net.W)\n",
    "dW"
   ]
  },
  {
   "cell_type": "markdown",
   "metadata": {},
   "source": [
    "## Simple Learning Algorithm (SGD)\n",
    "\n",
    "1. Pick a mini-batch randomly from training set and feed it into the network to compute the loss function (w.r.t. the mini-batch itself).\n",
    "2. Compute the gradient of the loss function with respect to the weights.\n",
    "3. Update weights by subtracting a small fraction of the gradient from the weights.\n",
    "4. Repeat 1-3 until the loss function converges and prevent over-fitting.\n",
    "\n",
    "Let's try to train a simple two layer net!"
   ]
  },
  {
   "cell_type": "code",
   "execution_count": 31,
   "metadata": {},
   "outputs": [],
   "source": [
    "# build the two layer class\n",
    "\n",
    "def sigmoid_grad(x):\n",
    "    return (1.0 - sigmoid(x)) * sigmoid(x)\n",
    "\n",
    "# batch-version soft max\n",
    "def softmax(x):\n",
    "    if x.ndim == 2:\n",
    "        x = x.T\n",
    "        x = x - np.max(x, axis=0)\n",
    "        y = np.exp(x) / np.sum(np.exp(x), axis=0)\n",
    "        return y.T \n",
    "\n",
    "    x = x - np.max(x) \n",
    "    return np.exp(x) / np.sum(np.exp(x))\n",
    "\n",
    "# batch-version cross entropy error\n",
    "def cross_entropy_error(y, t):\n",
    "    if y.ndim == 1:\n",
    "        t = t.reshape(1, t.size)\n",
    "        y = y.reshape(1, y.size)\n",
    "        \n",
    "    if t.size == y.size:\n",
    "        t = t.argmax(axis=1)\n",
    "             \n",
    "    batch_size = y.shape[0]\n",
    "    return -np.sum(np.log(y[np.arange(batch_size), t] + 1e-7)) / batch_size\n",
    "\n",
    "class TwoLayerNet:\n",
    "    def __init__(self, input_size, hidden_size, output_size, weight_init_std=0.01):\n",
    "        self.params = {}\n",
    "        self.params[\"W1\"] = weight_init_std * np.random.randn(input_size, hidden_size)\n",
    "        self.params[\"b1\"] = np.zeros(hidden_size)\n",
    "        self.params[\"W2\"] = weight_init_std * np.random.randn(hidden_size, output_size)\n",
    "        self.params[\"b2\"] = np.zeros(output_size)\n",
    "\n",
    "    def predict(self, x):\n",
    "        W1, W2 = self.params[\"W1\"], self.params[\"W2\"]\n",
    "        b1, b2 = self.params[\"b1\"], self.params[\"b2\"]\n",
    "\n",
    "        a1 = np.dot(x, W1) + b1\n",
    "        z1 = sigmoid(a1)\n",
    "        a2 = np.dot(z1, W2) + b2\n",
    "        y = softmax(a2)\n",
    "\n",
    "        return y\n",
    "\n",
    "    def loss(self, x, t):\n",
    "        y = self.predict(x)\n",
    "\n",
    "        return cross_entropy_error(y, t)\n",
    "\n",
    "    def accuracy(self, x, t):\n",
    "        y = self.predict(x)\n",
    "        y = np.argmax(y, axis=1)\n",
    "        t = np.argmax(t, axis=1)\n",
    "\n",
    "        accuracy = np.sum(y == t) / float(x.shape[0])\n",
    "        return accuracy\n",
    "\n",
    "    def gradient(self, x, t):\n",
    "        W1, W2 = self.params[\"W1\"], self.params[\"W2\"]\n",
    "        b1, b2 = self.params[\"b1\"], self.params[\"b2\"]\n",
    "        grads = {}\n",
    "\n",
    "        batch_num = x.shape[0]\n",
    "\n",
    "        # forward\n",
    "        a1 = np.dot(x, W1) + b1\n",
    "        z1 = sigmoid(a1)\n",
    "        a2 = np.dot(z1, W2) + b2\n",
    "        y = softmax(a2)\n",
    "\n",
    "        # backward\n",
    "        dy = (y - t) / batch_num\n",
    "        grads[\"W2\"] = np.dot(z1.T, dy)\n",
    "        grads[\"b2\"] = np.sum(dy, axis=0)\n",
    "\n",
    "        da1 = np.dot(dy, W2.T)\n",
    "        dz1 = sigmoid_grad(a1) * da1\n",
    "        grads[\"W1\"] = np.dot(x.T, dz1)\n",
    "        grads[\"b1\"] = np.sum(dz1, axis=0)\n",
    "\n",
    "        return grads"
   ]
  },
  {
   "cell_type": "code",
   "execution_count": 32,
   "metadata": {},
   "outputs": [
    {
     "name": "stdout",
     "output_type": "stream",
     "text": [
      "train acc, test acc | 0.11236666666666667, 0.1135\n",
      "train acc, test acc | 0.7904, 0.7966\n",
      "train acc, test acc | 0.8749, 0.879\n",
      "train acc, test acc | 0.89805, 0.8996\n",
      "train acc, test acc | 0.9072166666666667, 0.9099\n",
      "train acc, test acc | 0.91315, 0.915\n",
      "train acc, test acc | 0.9168833333333334, 0.9206\n",
      "train acc, test acc | 0.9225666666666666, 0.9241\n",
      "train acc, test acc | 0.9251833333333334, 0.9271\n",
      "train acc, test acc | 0.9280333333333334, 0.9284\n",
      "train acc, test acc | 0.93235, 0.9342\n",
      "train acc, test acc | 0.9355, 0.9363\n",
      "train acc, test acc | 0.9378833333333333, 0.9375\n",
      "train acc, test acc | 0.9395333333333333, 0.9393\n",
      "train acc, test acc | 0.9414166666666667, 0.9415\n",
      "train acc, test acc | 0.9434166666666667, 0.9417\n",
      "train acc, test acc | 0.9453, 0.9442\n"
     ]
    }
   ],
   "source": [
    "(x_train, t_train), (x_test, t_test) = load_mnist(normalize=True, one_hot_label = True)\n",
    "\n",
    "\n",
    "train_loss_list = []\n",
    "train_acc_list = []\n",
    "test_acc_list = []\n",
    "\n",
    "\n",
    "# hyper parameters\n",
    "iters_num = 10000 # draw 10000 mini-batches\n",
    "batch_size = 100\n",
    "learning_rate = 0.1\n",
    "\n",
    "# how many batches on average should we draw for training all the data set?\n",
    "iter_per_epoch = len(x_train) / batch_size\n",
    "\n",
    "\n",
    "network = TwoLayerNet(input_size=784, hidden_size=50, output_size=10)\n",
    "\n",
    "train_size = x_train.shape[0] # 60000 training samples\n",
    "\n",
    "for i in range(iters_num):\n",
    "    # draw mini-batch\n",
    "    batch_mask = np.random.choice(train_size, batch_size)\n",
    "    x_batch = x_train[batch_mask]\n",
    "    t_batch = t_train[batch_mask]\n",
    "    # calculate gradient\n",
    "    grad = network.gradient(x_batch, t_batch)\n",
    "    # update weights and biases\n",
    "    for key in ('W1', 'b1', 'W2', 'b2'):\n",
    "        network.params[key] -= learning_rate * grad[key]\n",
    "\n",
    "\n",
    "    loss = network.loss(x_batch, t_batch)\n",
    "    train_loss_list.append(loss)\n",
    "\n",
    "    # prediction accuracy for each epoch\n",
    "    if i % iter_per_epoch == 0:\n",
    "        train_acc = network.accuracy(x_train, t_train)\n",
    "        test_acc = network.accuracy(x_test, t_test)\n",
    "        train_acc_list.append(train_acc)\n",
    "        test_acc_list.append(test_acc)\n",
    "        print(\"train acc, test acc | \" + str(train_acc) + \", \" + str(test_acc))"
   ]
  },
  {
   "cell_type": "code",
   "execution_count": 34,
   "metadata": {},
   "outputs": [
    {
     "data": {
      "image/png": "[encoded data removed]",
      "text/plain": [
       "<Figure size 1500x500 with 2 Axes>"
      ]
     },
     "metadata": {},
     "output_type": "display_data"
    }
   ],
   "source": [
    "fig, (ax1, ax2) = plt.subplots(1, 2, figsize=(15, 5))\n",
    "ax1.plot(train_loss_list)\n",
    "ax1.set_xlabel(\"iteration (mini-batch)\")\n",
    "ax1.set_ylabel(\"loss\")\n",
    "ax1.set_title(\"loss function\")\n",
    "\n",
    "ax2.plot(train_acc_list, '--', label=\"training set\")\n",
    "ax2.plot(test_acc_list, label=\"test set\")\n",
    "ax2.set_title(\"prediction accuracy\")\n",
    "ax2.set_xlabel(\"epochs (100 mini-batches)\")\n",
    "ax2.set_ylabel(\"accuracy\")\n",
    "ax2.legend()\n",
    "\n",
    "plt.show()"
   ]
  },
  {
   "cell_type": "code",
   "execution_count": null,
   "metadata": {},
   "outputs": [],
   "source": []
  }
 ],
 "metadata": {
  "kernelspec": {
   "display_name": "base",
   "language": "python",
   "name": "python3"
  },
  "language_info": {
   "codemirror_mode": {
    "name": "ipython",
    "version": 3
   },
   "file_extension": ".py",
   "mimetype": "text/x-python",
   "name": "python",
   "nbconvert_exporter": "python",
   "pygments_lexer": "ipython3",
   "version": "3.11.5"
  }
 },
 "nbformat": 4,
 "nbformat_minor": 2
}
